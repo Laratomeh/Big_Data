{
  "metadata": {
    "kernelspec": {
      "language": "python",
      "display_name": "Python 3",
      "name": "python3"
    },
    "language_info": {
      "pygments_lexer": "ipython3",
      "nbconvert_exporter": "python",
      "version": "3.6.4",
      "file_extension": ".py",
      "codemirror_mode": {
        "name": "ipython",
        "version": 3
      },
      "name": "python",
      "mimetype": "text/x-python"
    },
    "colab": {
      "name": "withoutDR.ipynb",
      "provenance": []
    }
  },
  "nbformat_minor": 0,
  "nbformat": 4,
  "cells": [
    {
      "cell_type": "code",
      "source": [
        "import pandas as pd\n",
        "import numpy as np\n",
        "import matplotlib.pyplot as plt\n",
        "import seaborn as sns\n",
        "\n",
        "import warnings\n",
        "warnings.filterwarnings('ignore')\n",
        "\n",
        "plt.style.use('fivethirtyeight')\n",
        "%matplotlib inline"
      ],
      "metadata": {
        "id": "YhbJLUN2an2n",
        "trusted": true
      },
      "execution_count": null,
      "outputs": []
    },
    {
      "cell_type": "code",
      "source": [
        "df = pd.read_csv('data.csv', encoding='latin')\n",
        "df.head()"
      ],
      "metadata": {
        "id": "MeUgjP_ga6z_",
        "trusted": true
      },
      "execution_count": null,
      "outputs": []
    },
    {
      "cell_type": "markdown",
      "source": [
        "# 2. Exploratory data analysis"
      ],
      "metadata": {
        "id": "lqlGgcdiqAos"
      }
    },
    {
      "cell_type": "markdown",
      "source": [
        "## 2.1. Quick statistical overview"
      ],
      "metadata": {
        "id": "G0XGUAZFrk6v"
      }
    },
    {
      "cell_type": "code",
      "source": [
        "df.describe()"
      ],
      "metadata": {
        "id": "pE4rxL-ZfwAe",
        "trusted": true
      },
      "execution_count": null,
      "outputs": []
    },
    {
      "cell_type": "markdown",
      "source": [
        "## 2.2. Dealing with types"
      ],
      "metadata": {
        "id": "r_MIrqRYrqrG"
      }
    },
    {
      "cell_type": "code",
      "source": [
        "df.dtypes"
      ],
      "metadata": {
        "id": "XY4J_0KBqJGe",
        "trusted": true
      },
      "execution_count": null,
      "outputs": []
    },
    {
      "cell_type": "code",
      "source": [
        "df['InvoiceDate'] = pd.to_datetime(df['InvoiceDate'])\n",
        "df = df.set_index('InvoiceDate')"
      ],
      "metadata": {
        "id": "qQ6gDvmV8a69",
        "trusted": true
      },
      "execution_count": null,
      "outputs": []
    },
    {
      "cell_type": "markdown",
      "source": [
        "## 2.3. Dealing with null values"
      ],
      "metadata": {
        "id": "UWSslxBNrgqG"
      }
    },
    {
      "cell_type": "code",
      "source": [
        "df.isnull().sum()"
      ],
      "metadata": {
        "id": "5TDxDE_NgR-_",
        "trusted": true
      },
      "execution_count": null,
      "outputs": []
    },
    {
      "cell_type": "code",
      "source": [
        "df = df.drop(columns=['CustomerID'])"
      ],
      "metadata": {
        "id": "qZHLLtsRqPTA",
        "trusted": true
      },
      "execution_count": null,
      "outputs": []
    },
    {
      "cell_type": "code",
      "source": [
        "df[df['Description'].isnull()].head()"
      ],
      "metadata": {
        "id": "rQkkpcUnsqef",
        "trusted": true
      },
      "execution_count": null,
      "outputs": []
    },
    {
      "cell_type": "code",
      "source": [
        "df['Description'] = df['Description'].fillna('UNKNOWN ITEM')\n",
        "df.isnull().sum()"
      ],
      "metadata": {
        "id": "eIIq-a31t3mm",
        "trusted": true
      },
      "execution_count": null,
      "outputs": []
    },
    {
      "cell_type": "markdown",
      "source": [
        "## 2.4. Checking out columns separately"
      ],
      "metadata": {
        "id": "B_RRuBfHyzKm"
      }
    },
    {
      "cell_type": "code",
      "source": [
        "df['Description'].value_counts().head()"
      ],
      "metadata": {
        "id": "2zRnyeufgBDa",
        "trusted": true
      },
      "execution_count": null,
      "outputs": []
    },
    {
      "cell_type": "code",
      "source": [
        "item_counts = df['Description'].value_counts().sort_values(ascending=False).iloc[0:15]\n",
        "plt.figure(figsize=(18,6))\n",
        "sns.barplot(item_counts.index, item_counts.values, palette=sns.cubehelix_palette(15))\n",
        "plt.ylabel(\"Counts\")\n",
        "plt.title(\"Which items were bought more often?\");\n",
        "plt.xticks(rotation=90);"
      ],
      "metadata": {
        "id": "JuNgVd6PGt7Y",
        "trusted": true
      },
      "execution_count": null,
      "outputs": []
    },
    {
      "cell_type": "code",
      "source": [
        "df['Description'].value_counts().tail()"
      ],
      "metadata": {
        "trusted": true,
        "id": "ZoVv3ojw8dHL"
      },
      "execution_count": null,
      "outputs": []
    },
    {
      "cell_type": "code",
      "source": [
        "df[~df['Description'].str.isupper()]['Description'].value_counts().head()"
      ],
      "metadata": {
        "id": "0RMbj7vsu3kZ",
        "trusted": true
      },
      "execution_count": null,
      "outputs": []
    },
    {
      "cell_type": "code",
      "source": [
        "lcase_counts = df[~df['Description'].str.isupper()]['Description'].value_counts().sort_values(ascending=False).iloc[0:15]\n",
        "plt.figure(figsize=(18,6))\n",
        "sns.barplot(lcase_counts.index, lcase_counts.values, palette=sns.color_palette(\"hls\", 15))\n",
        "plt.ylabel(\"Counts\")\n",
        "plt.title(\"Not full upper case items\");\n",
        "plt.xticks(rotation=90);"
      ],
      "metadata": {
        "id": "YxTPItIwJQTV",
        "trusted": true
      },
      "execution_count": null,
      "outputs": []
    },
    {
      "cell_type": "code",
      "source": [
        "df['StockCode'].value_counts().head()"
      ],
      "metadata": {
        "id": "Ifuzm9k3wiZC",
        "trusted": true
      },
      "execution_count": null,
      "outputs": []
    },
    {
      "cell_type": "code",
      "source": [
        "stock_counts = df['StockCode'].value_counts().sort_values(ascending=False).iloc[0:15]\n",
        "plt.figure(figsize=(18,6))\n",
        "sns.barplot(stock_counts.index, stock_counts.values, palette=sns.color_palette(\"GnBu_d\"))\n",
        "plt.ylabel(\"Counts\")\n",
        "plt.title(\"Which stock codes were used the most?\");\n",
        "plt.xticks(rotation=90);"
      ],
      "metadata": {
        "id": "mYNaQ_KmK6YH",
        "trusted": true
      },
      "execution_count": null,
      "outputs": []
    },
    {
      "cell_type": "code",
      "source": [
        "df['InvoiceNo'].value_counts().tail()"
      ],
      "metadata": {
        "id": "-07Q-Xp3xjSU",
        "trusted": true
      },
      "execution_count": null,
      "outputs": []
    },
    {
      "cell_type": "code",
      "source": [
        "inv_counts = df['InvoiceNo'].value_counts().sort_values(ascending=False).iloc[0:15]\n",
        "plt.figure(figsize=(18,6))\n",
        "sns.barplot(inv_counts.index, inv_counts.values, palette=sns.color_palette(\"BuGn_d\"))\n",
        "plt.ylabel(\"Counts\")\n",
        "plt.title(\"Which invoices had the most items?\");\n",
        "plt.xticks(rotation=90);"
      ],
      "metadata": {
        "id": "5aSNIrR4LnuS",
        "trusted": true
      },
      "execution_count": null,
      "outputs": []
    },
    {
      "cell_type": "code",
      "source": [
        "df[df['InvoiceNo'].str.startswith('C')].describe()"
      ],
      "metadata": {
        "id": "swUMOF-fx5qy",
        "trusted": true
      },
      "execution_count": null,
      "outputs": []
    },
    {
      "cell_type": "code",
      "source": [
        "df = df[~df['InvoiceNo'].str.startswith('C')]"
      ],
      "metadata": {
        "id": "yJI3a_ew1OKp",
        "trusted": true
      },
      "execution_count": null,
      "outputs": []
    },
    {
      "cell_type": "code",
      "source": [
        "df.describe()"
      ],
      "metadata": {
        "id": "08Bdxo0m0neI",
        "trusted": true
      },
      "execution_count": null,
      "outputs": []
    },
    {
      "cell_type": "code",
      "source": [
        "df[df['Quantity'] < 0].head()"
      ],
      "metadata": {
        "id": "A9i_--Qwq7Hm",
        "trusted": true
      },
      "execution_count": null,
      "outputs": []
    },
    {
      "cell_type": "code",
      "source": [
        "df = df[df['Quantity'] > 0]\n",
        "df.describe()"
      ],
      "metadata": {
        "id": "klcGgM0ZroQJ",
        "trusted": true
      },
      "execution_count": null,
      "outputs": []
    },
    {
      "cell_type": "code",
      "source": [
        "df[df['UnitPrice'] < 0].describe()"
      ],
      "metadata": {
        "id": "6inbAyKqrLlI",
        "trusted": true
      },
      "execution_count": null,
      "outputs": []
    },
    {
      "cell_type": "code",
      "source": [
        "df[df['UnitPrice'] == -11062.06]"
      ],
      "metadata": {
        "id": "acGrnc1WrVc7",
        "trusted": true
      },
      "execution_count": null,
      "outputs": []
    },
    {
      "cell_type": "code",
      "source": [
        "df = df[df['UnitPrice'] > 0]\n",
        "df.describe()"
      ],
      "metadata": {
        "id": "etvXHm7K29rg",
        "trusted": true
      },
      "execution_count": null,
      "outputs": []
    },
    {
      "cell_type": "code",
      "source": [
        "df['Sales'] = df['Quantity'] * df['UnitPrice']\n",
        "df.head()"
      ],
      "metadata": {
        "id": "S2AxwWDJ3OFO",
        "trusted": true
      },
      "execution_count": null,
      "outputs": []
    },
    {
      "cell_type": "markdown",
      "source": [
        "# 3. Visual EDA"
      ],
      "metadata": {
        "id": "gYqYN2LszQro"
      }
    },
    {
      "cell_type": "code",
      "source": [
        "plt.figure(figsize=(3,6))\n",
        "sns.countplot(df[df['Country'] == 'United Kingdom']['Country'])\n",
        "plt.xticks(rotation=90)"
      ],
      "metadata": {
        "id": "afZL4I1q6vlo",
        "trusted": true
      },
      "execution_count": null,
      "outputs": []
    },
    {
      "cell_type": "code",
      "source": [
        "plt.figure(figsize=(18,6))\n",
        "sns.countplot(df[df['Country'] != 'United Kingdom']['Country'])\n",
        "plt.xticks(rotation=90)"
      ],
      "metadata": {
        "id": "onb0ByML3dQe",
        "trusted": true
      },
      "execution_count": null,
      "outputs": []
    },
    {
      "cell_type": "code",
      "source": [
        "uk_count = df[df['Country'] == 'United Kingdom']['Country'].count()\n",
        "all_count = df['Country'].count()\n",
        "uk_perc = uk_count/all_count\n",
        "print(str('{0:.2f}%').format(uk_perc*100))"
      ],
      "metadata": {
        "id": "K79ODkHYznEr",
        "trusted": true
      },
      "execution_count": null,
      "outputs": []
    },
    {
      "cell_type": "markdown",
      "source": [
        "## 3.1. Detecting outliers"
      ],
      "metadata": {
        "id": "uSCNB39c1p-K"
      }
    },
    {
      "cell_type": "code",
      "source": [
        "plt.figure(figsize=(18,6))\n",
        "plt.scatter(x=df.index, y=df['Sales'])"
      ],
      "metadata": {
        "id": "n0tRONoX7zV8",
        "trusted": true
      },
      "execution_count": null,
      "outputs": []
    },
    {
      "cell_type": "code",
      "source": [
        "df = df[df['Sales'] < 25000]\n",
        "plt.figure(figsize=(18,6))\n",
        "plt.scatter(x=df.index, y=df['Sales'])\n",
        "plt.xticks(rotation=90)"
      ],
      "metadata": {
        "id": "WxEj3y-z9zHj",
        "trusted": true
      },
      "execution_count": null,
      "outputs": []
    },
    {
      "cell_type": "code",
      "source": [
        "df.quantile([0.05, 0.95, 0.98, 0.99, 0.999])"
      ],
      "metadata": {
        "id": "Wd6lkccmCXnY",
        "trusted": true
      },
      "execution_count": null,
      "outputs": []
    },
    {
      "cell_type": "code",
      "source": [
        "df_quantile = df[df['Sales'] < 125]\n",
        "plt.scatter(x=df_quantile.index, y=df_quantile['Sales'])\n",
        "plt.xticks(rotation=90)"
      ],
      "metadata": {
        "id": "ntKRBQa-MZEt",
        "trusted": true
      },
      "execution_count": null,
      "outputs": []
    },
    {
      "cell_type": "code",
      "source": [
        "df_quantile.describe()"
      ],
      "metadata": {
        "id": "BZ5zrj1JNaA7",
        "trusted": true
      },
      "execution_count": null,
      "outputs": []
    },
    {
      "cell_type": "markdown",
      "source": [
        "## 3.2. Visually checking distribution of numeric features"
      ],
      "metadata": {
        "id": "PPX6LukY3Cpf"
      }
    },
    {
      "cell_type": "code",
      "source": [
        "plt.figure(figsize=(12,4))\n",
        "sns.distplot(df_quantile[df_quantile['UnitPrice'] < 10]['UnitPrice'].values, kde=True, bins=10)"
      ],
      "metadata": {
        "id": "zj1rJmD1NB8P",
        "trusted": true
      },
      "execution_count": null,
      "outputs": []
    },
    {
      "cell_type": "code",
      "source": [
        "plt.figure(figsize=(12,4))\n",
        "sns.distplot(df_quantile[df_quantile['UnitPrice'] < 5]['UnitPrice'].values, kde=True, bins=10, color='green')"
      ],
      "metadata": {
        "id": "iV5Lv1YXUonz",
        "trusted": true
      },
      "execution_count": null,
      "outputs": []
    },
    {
      "cell_type": "code",
      "source": [
        "plt.figure(figsize=(12,4))\n",
        "sns.distplot(df_quantile[df_quantile['Quantity'] <= 30]['Quantity'], kde=True, bins=10, color='red')"
      ],
      "metadata": {
        "id": "MadAXAn0TuCZ",
        "trusted": true
      },
      "execution_count": null,
      "outputs": []
    },
    {
      "cell_type": "code",
      "source": [
        "plt.figure(figsize=(12,4))\n",
        "sns.distplot(df_quantile[df_quantile['Quantity'] <= 15]['Quantity'], kde=True, bins=10, color='orange')"
      ],
      "metadata": {
        "id": "uDPI8FLbUxRl",
        "trusted": true
      },
      "execution_count": null,
      "outputs": []
    },
    {
      "cell_type": "code",
      "source": [
        "plt.figure(figsize=(12,4))\n",
        "sns.distplot(df_quantile[df_quantile['Sales'] < 60]['Sales'], kde=True, bins=10, color='purple')"
      ],
      "metadata": {
        "id": "NUSMODaWUXgm",
        "trusted": true
      },
      "execution_count": null,
      "outputs": []
    },
    {
      "cell_type": "code",
      "source": [
        "plt.figure(figsize=(12,4))\n",
        "sns.distplot(df_quantile[df_quantile['Sales'] < 30]['Sales'], kde=True, bins=10, color='grey')"
      ],
      "metadata": {
        "id": "271Hrgm-U5FK",
        "trusted": true
      },
      "execution_count": null,
      "outputs": []
    },
    {
      "cell_type": "markdown",
      "source": [
        "## 3.3. Analysing sales over time"
      ],
      "metadata": {
        "id": "MNCUZ2DO3mHM"
      }
    },
    {
      "cell_type": "code",
      "source": [
        "df_ts = df[['Sales']]\n",
        "df_ts.head()"
      ],
      "metadata": {
        "id": "KCPCF-ZsDHpL",
        "trusted": true
      },
      "execution_count": null,
      "outputs": []
    },
    {
      "cell_type": "code",
      "source": [
        "plt.figure(figsize=(18,6))\n",
        "df_resample = df_ts.resample('W').sum()\n",
        "df_resample.plot()"
      ],
      "metadata": {
        "id": "k9vEWHcHEaND",
        "trusted": true
      },
      "execution_count": null,
      "outputs": []
    },
    {
      "cell_type": "code",
      "source": [
        "df_resample['12-2010':'01-2011']"
      ],
      "metadata": {
        "id": "1QXCBgf8WQUD",
        "trusted": true
      },
      "execution_count": null,
      "outputs": []
    },
    {
      "cell_type": "markdown",
      "source": [
        "# 4. Preparing data for modeling and feature creation"
      ],
      "metadata": {
        "id": "NIpdfJcS4mbx"
      }
    },
    {
      "cell_type": "code",
      "source": [
        "df_clean = df[df['UnitPrice'] < 15]\n",
        "df_clean.describe()"
      ],
      "metadata": {
        "id": "Z26VIUm8VJ0M",
        "trusted": true
      },
      "execution_count": null,
      "outputs": []
    },
    {
      "cell_type": "code",
      "source": [
        "df_clean.index"
      ],
      "metadata": {
        "id": "4ddHzAzmkAx9",
        "trusted": true
      },
      "execution_count": null,
      "outputs": []
    },
    {
      "cell_type": "markdown",
      "source": [
        "## 4.1. Quantity per invoice feature"
      ],
      "metadata": {
        "id": "IJST6pYl47s6"
      }
    },
    {
      "cell_type": "code",
      "source": [
        "df_join = df_clean.groupby('InvoiceNo')[['Quantity']].sum()"
      ],
      "metadata": {
        "id": "XeL8mapkXU3c",
        "trusted": true
      },
      "execution_count": null,
      "outputs": []
    },
    {
      "cell_type": "code",
      "source": [
        "df_join = df_join.reset_index()\n",
        "df_join.head()"
      ],
      "metadata": {
        "id": "yB4Fqi0qf-tx",
        "trusted": true
      },
      "execution_count": null,
      "outputs": []
    },
    {
      "cell_type": "code",
      "source": [
        "df_clean['InvoiceDate'] = df_clean.index\n",
        "df_clean = df_clean.merge(df_join, how='left', on='InvoiceNo')\n",
        "df_clean = df_clean.rename(columns={'Quantity_x' : 'Quantity', 'Quantity_y' : 'QuantityInv'})\n",
        "df_clean.tail(15)"
      ],
      "metadata": {
        "id": "4q88pvAuX2Rh",
        "trusted": true
      },
      "execution_count": null,
      "outputs": []
    },
    {
      "cell_type": "code",
      "source": [
        "df_clean.describe()"
      ],
      "metadata": {
        "id": "FkOT2yPciD0Q",
        "trusted": true
      },
      "execution_count": null,
      "outputs": []
    },
    {
      "cell_type": "code",
      "source": [
        "df_clean['InvoiceDate'] = pd.to_datetime(df_clean['InvoiceDate'])"
      ],
      "metadata": {
        "id": "DDzWZ6K_o4z0",
        "trusted": true
      },
      "execution_count": null,
      "outputs": []
    },
    {
      "cell_type": "code",
      "source": [
        "df_clean.dtypes"
      ],
      "metadata": {
        "id": "2tQTQyu4pBaf",
        "trusted": true
      },
      "execution_count": null,
      "outputs": []
    },
    {
      "cell_type": "markdown",
      "source": [
        "## 4.2. Bucketizing Quantity and UnitPrice features"
      ],
      "metadata": {
        "id": "BirwPlbT5SRb"
      }
    },
    {
      "cell_type": "code",
      "source": [
        "bins_q = pd.IntervalIndex.from_tuples([(0, 2), (2, 5), (5, 8), (8, 11), (11, 14), (15, 5000)])\n",
        "df_clean['QuantityRange'] = pd.cut(df_clean['Quantity'], bins=bins_q)\n",
        "bins_p = pd.IntervalIndex.from_tuples([(0, 1), (1, 2), (2, 3), (3, 4), (4, 20)])\n",
        "df_clean['PriceRange'] = pd.cut(df_clean['UnitPrice'], bins=bins_p)\n",
        "df_clean.head()"
      ],
      "metadata": {
        "id": "PxLoYdjImDsy",
        "trusted": true
      },
      "execution_count": null,
      "outputs": []
    },
    {
      "cell_type": "markdown",
      "source": [
        "## 4.3. Extracting and bucketizing dates"
      ],
      "metadata": {
        "id": "v66wi4HE59RQ"
      }
    },
    {
      "cell_type": "code",
      "source": [
        "df_clean['Month'] = df_clean['InvoiceDate'].dt.month\n",
        "df_clean.head()"
      ],
      "metadata": {
        "id": "yBChTJkks6Pq",
        "trusted": true
      },
      "execution_count": null,
      "outputs": []
    },
    {
      "cell_type": "code",
      "source": [
        "bins_d = pd.IntervalIndex.from_tuples([(0,3),(3,6),(6,9),(9,12)])\n",
        "df_clean['DateRange'] = pd.cut(df_clean['Month'], bins=bins_d, labels=['q1','q2','q3','q4'])\n",
        "df_clean.tail()"
      ],
      "metadata": {
        "id": "jxsN8XZVqmgU",
        "trusted": true
      },
      "execution_count": null,
      "outputs": []
    },
    {
      "cell_type": "markdown",
      "source": [
        "# 5. Building a model"
      ],
      "metadata": {
        "id": "VV_-KJsD8AMi"
      }
    },
    {
      "cell_type": "markdown",
      "source": [
        "## 5.1. Splitting data into UK and non-UK"
      ],
      "metadata": {
        "id": "zoj-cC6N6wHN"
      }
    },
    {
      "cell_type": "code",
      "source": [
        "df_uk = df_clean[df_clean['Country'] == 'United Kingdom']\n",
        "df_abroad = df_clean[df_clean['Country'] != 'United Kingdom']"
      ],
      "metadata": {
        "id": "xmWtfOhCvdft",
        "trusted": true
      },
      "execution_count": null,
      "outputs": []
    },
    {
      "cell_type": "code",
      "source": [
        "df_uk.head()"
      ],
      "metadata": {
        "id": "Jr4lhQyFvsH0",
        "trusted": true
      },
      "execution_count": null,
      "outputs": []
    },
    {
      "cell_type": "markdown",
      "source": [
        "## 5.2. Extracting features and creating dummy variables"
      ],
      "metadata": {
        "id": "7m7-iaA-8HMk"
      }
    },
    {
      "cell_type": "code",
      "source": [
        "df_uk_model = df_uk[['Sales', 'QuantityInv', 'QuantityRange', 'PriceRange', 'DateRange']]\n",
        "df_uk_model.head()"
      ],
      "metadata": {
        "id": "0J8hPy4HwW0X",
        "trusted": true
      },
      "execution_count": null,
      "outputs": []
    },
    {
      "cell_type": "code",
      "source": [
        "df_data = df_uk_model.copy()\n",
        "df_data = pd.get_dummies(df_data, columns=['QuantityRange'], prefix='qr')\n",
        "df_data = pd.get_dummies(df_data, columns=['PriceRange'], prefix='pr')\n",
        "df_data = pd.get_dummies(df_data, columns=['DateRange'], prefix='dr')\n",
        "df_data.head()"
      ],
      "metadata": {
        "id": "SZRq6C640Blc",
        "trusted": true
      },
      "execution_count": null,
      "outputs": []
    },
    {
      "cell_type": "markdown",
      "source": [
        "## 5.3. Scaling"
      ],
      "metadata": {
        "id": "f-SPb1vS8WJp"
      }
    },
    {
      "cell_type": "code",
      "source": [
        "from sklearn.preprocessing import scale\n",
        "df_data['QuantityInv'] = scale(df_data['QuantityInv'])"
      ],
      "metadata": {
        "id": "pZknqQll1XwF",
        "trusted": true
      },
      "execution_count": null,
      "outputs": []
    },
    {
      "cell_type": "markdown",
      "source": [
        "## 5.4. Train-Test Split"
      ],
      "metadata": {
        "id": "ubjfXWh18gyd"
      }
    },
    {
      "cell_type": "code",
      "source": [
        "y = df_data['Sales']\n",
        "X = df_data.drop(columns=['Sales'])"
      ],
      "metadata": {
        "id": "PzvfoUoP1x3_",
        "trusted": true
      },
      "execution_count": null,
      "outputs": []
    },
    {
      "cell_type": "code",
      "source": [
        "from sklearn.model_selection import train_test_split\n",
        "X_train, X_test, y_train, y_test = train_test_split(X, y, test_size=0.2, random_state=42)"
      ],
      "metadata": {
        "id": "JK74XVwI2rmH"
      },
      "execution_count": null,
      "outputs": []
    },
    {
      "cell_type": "code",
      "source": [
        "# Turn the values into an array for feeding the classification algorithms.\n",
        "X_train = X_train.values\n",
        "X_test = X_test.values\n",
        "y_train = y_train.values\n",
        "y_test = y_test.values"
      ],
      "metadata": {
        "id": "1QfIQ2Ii-KVL"
      },
      "execution_count": null,
      "outputs": []
    },
    {
      "cell_type": "code",
      "source": [
        "# Let's implement simple classifiers\n",
        "# Classifier Libraries\n",
        "from sklearn.linear_model import LogisticRegression\n",
        "from sklearn.svm import SVC\n",
        "from sklearn.neighbors import KNeighborsClassifier\n",
        "from sklearn.tree import DecisionTreeClassifier\n",
        "from sklearn.ensemble import RandomForestClassifier\n",
        "import collections\n",
        "classifiers = {\n",
        "    \"LogisiticRegression\": LogisticRegression(),\n",
        "    \"KNearest\": KNeighborsClassifier(),\n",
        "    \"Support Vector Classifier\": SVC(),\n",
        "    \"DecisionTreeClassifier\": DecisionTreeClassifier()\n",
        "}"
      ],
      "metadata": {
        "id": "M3umHhix-Qfd"
      },
      "execution_count": null,
      "outputs": []
    },
    {
      "cell_type": "code",
      "source": [
        "from sklearn import preprocessing\n",
        "from sklearn import utils\n",
        "\n",
        "#convert y values to categorical values\n",
        "lab = preprocessing.LabelEncoder()\n",
        "y_transformed = lab.fit_transform(y_train)\n",
        "\n",
        "#view transformed values\n",
        "print(y_transformed)"
      ],
      "metadata": {
        "id": "Wf4dA-FD_ueW"
      },
      "execution_count": null,
      "outputs": []
    },
    {
      "cell_type": "code",
      "source": [
        "from sklearn.model_selection import cross_val_score\n",
        "\n",
        "\n",
        "for key, classifier in classifiers.items():\n",
        "    classifier.fit(X_train, y_transformed)\n",
        "    training_score = cross_val_score(classifier, X_train, y_transformed, cv=5)\n",
        "    print(\"Classifiers: \", classifier.__class__.__name__, \"Has a training score of\", round(training_score.mean(), 2) * 100, \"% accuracy score\")"
      ],
      "metadata": {
        "id": "s7T64pwo-Ze9"
      },
      "execution_count": null,
      "outputs": []
    }
  ]
}